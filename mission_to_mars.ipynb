from splinter import Browser
from bs4 import BeautifulSoup as bs
import requests
# In this assignment, you will build a web application that scrapes various websites 
# for data related to the Mission to Mars and 
# displays the information in a single HTML page. The following outlines what you need to do.
# Instructions
# Scrape the NASA Mars News Site and collect the latest News Title and Paragraph Text.
# Assign the text to variables that you can reference later.
# URL of page to be scraped
url = 'https://mars.nasa.gov/news/'
# Retrieve page with the requests module
response = requests.get(url)
# Create BeautifulSoup object; parse with 'html.parser'
soup_news = bs(response.text, 'html.parser')
print(soup_news.prettify())
